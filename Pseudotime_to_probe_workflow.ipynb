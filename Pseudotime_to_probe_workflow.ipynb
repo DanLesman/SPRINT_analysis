{
 "cells": [
  {
   "cell_type": "code",
   "execution_count": null,
   "metadata": {},
   "outputs": [],
   "source": [
    "%matplotlib inline\n",
    "import numpy as np\n",
    "import pandas as pd\n",
    "from Bio import SeqIO\n",
    "from Bio.Seq import Seq\n",
    "from Bio.SeqRecord import SeqRecord\n",
    "import os\n",
    "from Bio.Blast.Applications import NcbiblastnCommandline\n",
    "import re\n",
    "import inspect\n",
    "from tqdm import tqdm_notebook as tqdm\n",
    "import matplotlib.pyplot as plt\n",
    "import sklearn as sklearn\n",
    "import seaborn as sns; sns.set()\n",
    "import scipy\n",
    "from sklearn.linear_model import Lasso\n",
    "from sklearn.linear_model import LinearRegression\n",
    "from sklearn.model_selection import train_test_split\n",
    "import matplotlib\n",
    "import json\n",
    "from scipy import stats\n",
    "import math"
   ]
  },
  {
   "cell_type": "code",
   "execution_count": null,
   "metadata": {},
   "outputs": [],
   "source": [
    "#Used for probe creation\n",
    "class BlastResult:\n",
    "    def __init__(self, qseqid, sseqid, pident, length, mismatch, gapopen, qstart, qend, \n",
    "                 sstart, send, evalue, bitscore):\n",
    "        self.qseqid = qseqid\n",
    "        self.sseqid = sseqid\n",
    "        self.pident = pident\n",
    "        self.length = int(length)\n",
    "        self.mismatch = int(mismatch)\n",
    "        self.gapopen = int(gapopen)\n",
    "        self.qstart = int(qstart)\n",
    "        self.qend = int(qend)\n",
    "        self.sstart = int(sstart)\n",
    "        self.send = int(send)\n",
    "        self.evalue = float(evalue)\n",
    "        self.bitscore = float(bitscore)"
   ]
  },
  {
   "cell_type": "code",
   "execution_count": null,
   "metadata": {},
   "outputs": [],
   "source": [
    "def save_figure(figure_to_save, figure_save_path, sample_name, figure_name):\n",
    "    figure_to_save.savefig(os.path.join(figure_save_path, (sample_name + '_' + figure_name)), \n",
    "                                     format = 'eps', dpi = 500)\n",
    "#Functions for generating gene list\n",
    "def L1_regression(sample_data, single_cell_data, pseudotime_correlated_gene_list, desired_num_genes,\n",
    "                  genes_to_avoid):\n",
    "    X = single_cell_data[pseudotime_correlated_gene_list]\n",
    "    X = X.drop(genes_to_avoid, axis = 1)\n",
    "    Y = sample_data['Pseudotime']\n",
    "    X_train,X_test,y_train,y_test=train_test_split(X,Y, test_size=0.3, random_state=31)\n",
    "    coeff_used = 0\n",
    "    i = 500.0\n",
    "    minimum = 0.0\n",
    "    while coeff_used != desired_num_genes:\n",
    "        lasso = Lasso(alpha = i, max_iter=10e5)\n",
    "        lasso.fit(X_train,y_train)\n",
    "        coeff_used = np.sum(lasso.coef_!=0)\n",
    "        if coeff_used > desired_num_genes:\n",
    "            minimum = i\n",
    "            i = (i+maximum)/2\n",
    "        if coeff_used < desired_num_genes:\n",
    "            maximum = i\n",
    "            i = (i+minimum)/2\n",
    "    \n",
    "    train_score =lasso.score(X_train,y_train)\n",
    "    test_score=lasso.score(X_test,y_test)\n",
    "    coefficients = lasso.sparse_coef_\n",
    "    return train_score, test_score, coefficients\n",
    "\n",
    "def create_gene_dictionaries(pseudotime_correlated_gene_list, L1_gene_list):\n",
    "    negative_gene_to_coefficient_dict = {}\n",
    "    positive_gene_to_coefficient_dict = {}\n",
    "    for i in range(0,L1_gene_list.shape[1]):\n",
    "        if L1_gene_list[0,i] < 0:\n",
    "            negative_gene_to_coefficient_dict[str(pseudotime_correlated_gene_list[i])] = L1_gene_list[0,i]\n",
    "        if L1_gene_list[0,i] > 0:\n",
    "            positive_gene_to_coefficient_dict[str(pseudotime_correlated_gene_list[i])] = L1_gene_list[0,i]\n",
    "        else:\n",
    "            pass\n",
    "    return negative_gene_to_coefficient_dict, positive_gene_to_coefficient_dict\n",
    "    \n",
    "def num_coefficients_vs_rsqaured_graph(sample_data, single_cell_data, min_num_genes_to_test, \n",
    "                                       max_num_genes_to_test, pseudotime_correlated_gene_list, genes_to_avoid):\n",
    "    scores = list()\n",
    "    for j in tqdm(range(min_num_genes_to_test,max_num_genes_to_test+1)):\n",
    "        train_score, test_score, coefficients = L1_regression(sample_data = sample_data, \n",
    "                                 single_cell_data = single_cell_data, \n",
    "                                 pseudotime_correlated_gene_list = pseudotime_correlated_gene_list, \n",
    "                                 desired_num_genes = j, genes_to_avoid = genes_to_avoid)\n",
    "        scores.append(test_score)\n",
    "    fig = plt.figure(figsize=(8, 6))\n",
    "    plt.scatter(range(min_num_genes_to_test,max_num_genes_to_test+1), scores)\n",
    "    plt.xlabel('Number of Genes')\n",
    "    plt.ylabel('$R^{2}$')\n",
    "    plt.show()\n",
    "    return fig\n",
    "    \n",
    "def save_dictionaries(data_path, sample_name, positive_gene_to_coefficient_dict\n",
    "                      , negative_gene_to_coefficient_dict):\n",
    "    negative_gene_to_coefficient_dict = {'negative_gene_to_coefficient_dict':negative_gene_to_coefficient_dict}\n",
    "    neg_dict_path = os.path.join(file_path, sample_name, 'negative_gene_coeff_dict.txt')\n",
    "    with open(neg_dict_path, 'w') as file:\n",
    "        file.write(json.dumps(negative_gene_to_coefficient_dict))\n",
    "    positive_gene_to_coefficient_dict = {'positive_gene_to_coefficient_dict' + positive_gene_to_coefficient_dict}\n",
    "    pos_dict_path = os.path.join(file_path, sample_name, 'positive_gene_coeff_dict.txt')\n",
    "    with open(pos_dict_path, 'w') as file:\n",
    "        file.write(json.dumps(positive_gene_to_coefficient_dict))\n",
    "        \n",
    "def generate_predicted_pseudotime_values(sample_data, single_cell_data, positive_gene_to_coefficient_dict, \n",
    "                                  negative_gene_to_coefficient_dict):\n",
    "    sample_data['negative_coefficients_sum'] = 0\n",
    "    sample_data['positive_coefficients_sum'] = 0\n",
    "    sample_data['predicted_pseudotime'] = 0\n",
    "    for i in negative_gene_to_coefficient_dict:\n",
    "        sample_data['negative_coefficients_sum'] = (sample_data['negative_coefficients_sum'] + \n",
    "                                                    (single_cell_data[i] * \n",
    "                                                    negative_gene_to_coefficient_dict.get(i)))\n",
    "    for j in positive_gene_to_coefficient_dict:\n",
    "        sample_data['positive_coefficients_sum'] = (sample_data['positive_coefficients_sum'] + \n",
    "                                                    (single_cell_data[j] * \n",
    "                                                    positive_gene_to_coefficient_dict.get(j)))\n",
    "    sample_data['predicted_pseudotime'] = (sample_data['negative_coefficients_sum'] \n",
    "                                               + sample_data['positive_coefficients_sum'])\n",
    "    return sample_data\n",
    "\n",
    "def generate_predicted_pseudotime_values_from_loaded_gene_list(sample_data, single_cell_data, \n",
    "                                                               positive_gene_to_coefficient_dict, \n",
    "                                                                negative_gene_to_coefficient_dict):\n",
    "    sample_data['negative_coefficients_sum'] = 0\n",
    "    sample_data['positive_coefficients_sum'] = 0\n",
    "    sample_data['predicted_pseudotime'] = 0\n",
    "    for i in negative_gene_to_coefficient_dict['negative_gene_to_coefficient_dict']:\n",
    "        sample_data['negative_coefficients_sum'] = (sample_data['negative_coefficients_sum'] + \n",
    "                                                    (single_cell_data[i] * \n",
    "                                negative_gene_to_coefficient_dict['negative_gene_to_coefficient_dict'].get(i)))\n",
    "    for j in positive_gene_to_coefficient_dict['positive_gene_to_coefficient_dict']:\n",
    "        sample_data['positive_coefficients_sum'] = (sample_data['positive_coefficients_sum'] + \n",
    "                                                    (single_cell_data[j] * \n",
    "                                positive_gene_to_coefficient_dict['positive_gene_to_coefficient_dict'].get(j)))\n",
    "    sample_data['predicted_pseudotime'] = (sample_data['negative_coefficients_sum'] \n",
    "                                               + sample_data['positive_coefficients_sum'])\n",
    "    return sample_data\n",
    "\n",
    "def plot_predicted_pseudotime(sample_data_with_predicted_values):\n",
    "    fig = plt.figure(figsize = (8,6))\n",
    "    plt.scatter(sample_data_with_predicted_values['negative_coefficients_sum']*-1,\n",
    "                sample_data_with_predicted_values['positive_coefficients_sum'],\n",
    "                c = sample_data_with_predicted_values['Pseudotime'])\n",
    "    plt.title(\"Predicted Pseudotime Values Colored by Original Pseudotime Values\")\n",
    "    plt.xlabel(\"Negative Coefficients Sum of Absolute Values\")\n",
    "    plt.ylabel(\"Positive Coefficients Sum\")\n",
    "    plt.colorbar()\n",
    "    return fig\n",
    "\n",
    "def get_probe_numbers(negative_gene_to_coefficient_dict, positive_gene_to_coefficient_dict, \n",
    "                      max_negative_probes, max_positive_probes):\n",
    "    neg_max = 0\n",
    "    pos_max = 0\n",
    "    for i in negative_gene_to_coefficient_dict:\n",
    "        if negative_gene_to_coefficient_dict.get(i)*-1 > neg_max:\n",
    "                neg_max = negative_gene_to_coefficient_dict.get(i)*-1\n",
    "    for j in positive_gene_to_coefficient_dict:\n",
    "        if positive_gene_to_coefficient_dict.get(j) > pos_max:\n",
    "            pos_max = positive_gene_to_coefficient_dict.get(j)\n",
    "    negative_gene_to_probe_num_dict = {}\n",
    "    positive_gene_to_probe_num_dict = {}\n",
    "    for i in negative_gene_to_coefficient_dict:\n",
    "        negative_gene_to_probe_num_dict[i] = (max_negative_probes/neg_max*\n",
    "                                              negative_gene_to_coefficient_dict.get(i)*-1)\n",
    "    for j in positive_gene_to_coefficient_dict:\n",
    "        positive_gene_to_probe_num_dict[j] = max_positive_probes/pos_max*positive_gene_to_coefficient_dict.get(j)\n",
    "    return negative_gene_to_probe_num_dict, positive_gene_to_probe_num_dict\n",
    "\n",
    "\n",
    "def reverse_complement(seq):\n",
    "    seq = Seq.upper(seq)\n",
    "    bases = (COMPLEMENT_MAP[base] for base in reversed(seq))\n",
    "    bases = ''.join(bases)\n",
    "    return bases\n",
    "\n",
    "def has_hairpin(temp_seq, neck_length, loop_length):\n",
    "    temp_seq = Seq.upper(temp_seq)\n",
    "    start_point = 0\n",
    "    while start_point <= len(temp_seq)-neck_length-loop_length:\n",
    "        to_check = temp_seq[start_point+neck_length+loop_length:]\n",
    "        temp_sub_rev_comp = reverse_complement(temp_seq[start_point:start_point+neck_length])\n",
    "        if temp_sub_rev_comp in to_check:\n",
    "            return True\n",
    "        else:\n",
    "            start_point += 1\n",
    "    return False\n",
    "\n",
    "def has_dimer(temp_seq, max_overlap):\n",
    "    temp_seq = Seq.upper(temp_seq)\n",
    "    start_point = 0\n",
    "    rev_comp = reverse_complement(temp_seq)\n",
    "    while start_point <= len(temp_seq)-max_overlap*2:\n",
    "        to_check = temp_seq[start_point:]\n",
    "        temp_sub_rev_comp = reverse_complement(temp_seq[start_point:start_point+max_overlap])\n",
    "        if temp_sub_rev_comp in to_check:\n",
    "            return True\n",
    "        else:\n",
    "            start_point += 1\n",
    "    return False\n",
    "\n",
    "def has_improper_GC(temp_seq, min_GC, max_GC):\n",
    "    temp_seq = Seq.upper(temp_seq)\n",
    "    GC_total = 0\n",
    "    for i in temp_seq:\n",
    "        if (i is 'G' or i is'C'):\n",
    "            GC_total += 1\n",
    "    GC_percent = float(GC_total)/len(temp_seq)*100\n",
    "    if (GC_percent < min_GC or GC_percent > max_GC):\n",
    "        return True\n",
    "    return False"
   ]
  },
  {
   "cell_type": "markdown",
   "metadata": {},
   "source": [
    "# Beginning of workflow for generating gene list\n",
    "### Provide values for the following variables:\n",
    "    data_path: Path to directory in which all files that will be used for analysis are stored\n",
    "    \n",
    "    to_save_path: Directory to which you would like newly generated data to be saved\n",
    "    \n",
    "    single_cell_dge_file: Absolute expression count matrix where columns are genes and rows are cells\n",
    "    \n",
    "    pseudotime_correlated_genes_file: Text file containing genes with expression correlated with pseudotime\n",
    "    \n",
    "    sample_data_file: File containing the cells and their generated pseudotime values\n",
    "    \n",
    "    singel_cell_data_name: Name of sample/data to be used when saving newly generated data"
   ]
  },
  {
   "cell_type": "code",
   "execution_count": null,
   "metadata": {},
   "outputs": [],
   "source": [
    "data_path = '/Users/Data/Path'\n",
    "single_cell_dge_file = 'Your_scRNA_seq_dataset_gene_matrix.csv'\n",
    "pseudotime_correlated_genes_file = 'Your_1000_pseudotime_correlated_gene_list.txt'\n",
    "sample_data_file = 'Your_pseudotime_value_file.txt'\n",
    "figure_save_path = '/Users/output/data/path'\n",
    "single_cell_data_name = 'your_experiment_name'"
   ]
  },
  {
   "cell_type": "code",
   "execution_count": null,
   "metadata": {},
   "outputs": [],
   "source": [
    "single_cell_expression_matrix = pd.read_csv(os.path.join(data_path,single_cell_dge_file), \n",
    "                                                   header = 0, index_col = 0)"
   ]
  },
  {
   "cell_type": "code",
   "execution_count": null,
   "metadata": {},
   "outputs": [],
   "source": [
    "pseudotime_correlated_genes = pd.read_csv(os.path.join(data_path,pseudotime_correlated_genes_file), sep = '\\t')\n",
    "pseudotime_correlated_genes_list = list(pseudotime_correlated_genes.index)"
   ]
  },
  {
   "cell_type": "code",
   "execution_count": null,
   "metadata": {},
   "outputs": [],
   "source": [
    "sample_data = pd.read_csv(os.path.join(data_path, sample_data_file), delimiter = '\\t')"
   ]
  },
  {
   "cell_type": "markdown",
   "metadata": {},
   "source": [
    "### Generate graph of number of genes used in regression vs predictive ability (represented by $R^{2}$)\n",
    "Generate graph of number of genes used in linear regression vs $R^{2}$ to help decide how many genes should be used\n",
    "\n",
    "    Warning: min_num_genes_to_test values that are too low may result in errors"
   ]
  },
  {
   "cell_type": "code",
   "execution_count": null,
   "metadata": {},
   "outputs": [],
   "source": [
    "genes_to_avoid = list()\n",
    "genes_to_avoid.append('genes_you_want_to_exclude')\n",
    "\n",
    "genes_vs_rsqaured_graph = num_coefficients_vs_rsqaured_graph(sample_data = sample_data, \n",
    "                                           single_cell_data = single_cell_expression_matrix,\n",
    "                                           min_num_genes_to_test = 4, max_num_genes_to_test = 20,\n",
    "                                           pseudotime_correlated_gene_list = pseudotime_correlated_genes_list,\n",
    "                                            genes_to_avoid = genes_to_avoid)"
   ]
  },
  {
   "cell_type": "markdown",
   "metadata": {},
   "source": [
    "### Run L1 regularized linear regression to generate gene list of desired length"
   ]
  },
  {
   "cell_type": "code",
   "execution_count": null,
   "metadata": {},
   "outputs": [],
   "source": [
    "train_score, test_score, coefficients = L1_regression(sample_data = sample_data,\n",
    "                                             single_cell_data = single_cell_expression_matrix,\n",
    "                                             pseudotime_correlated_gene_list = pseudotime_correlated_genes_list,\n",
    "                                             genes_to_avoid = genes_to_avoid, desired_num_genes = 14)\n",
    "\n",
    "\n",
    "print('training set score: ' + str(train_score) + '\\n'+ 'testing set score: ' + str(test_score))"
   ]
  },
  {
   "cell_type": "markdown",
   "metadata": {},
   "source": [
    "### Create dictionaries for the generated coefficients\n",
    "Creates two dictionaries with genes as keys and their corresponding coefficients as generated by L1. One dictionary cointains all the genes with negative coefficients and the other with all the positive"
   ]
  },
  {
   "cell_type": "code",
   "execution_count": null,
   "metadata": {},
   "outputs": [],
   "source": [
    "negative_gene_to_coefficient_dict, positive_gene_to_coefficient_dict = create_gene_dictionaries(\n",
    "                                            pseudotime_correlated_gene_list = pseudotime_correlated_genes_list, \n",
    "                                            L1_gene_list = coefficients)\n",
    "print(negative_gene_to_coefficient_dict)\n",
    "print(positive_gene_to_coefficient_dict)"
   ]
  },
  {
   "cell_type": "markdown",
   "metadata": {},
   "source": [
    "### Visualize predicted pseudotime against actual pseudotime"
   ]
  },
  {
   "cell_type": "code",
   "execution_count": null,
   "metadata": {},
   "outputs": [],
   "source": [
    "sample_data_with_predictions = generate_predicted_pseudotime_values(sample_data = sample_data,\n",
    "                                    single_cell_data = single_cell_expression_matrix,\n",
    "                                    positive_gene_to_coefficient_dict = positive_gene_to_coefficient_dict,\n",
    "                                    negative_gene_to_coefficient_dict = negative_gene_to_coefficient_dict)\n",
    "\n",
    "predicted_pseudotime_vs_actual_figure = plot_predicted_pseudotime(sample_data_with_predicted_values\n",
    "                                                      = sample_data_with_predictions)"
   ]
  },
  {
   "cell_type": "markdown",
   "metadata": {},
   "source": [
    "### Save dictionary files\n",
    "Creates two seperate dictionary text files, one for the negative coefficients and one for the positive"
   ]
  },
  {
   "cell_type": "code",
   "execution_count": null,
   "metadata": {},
   "outputs": [],
   "source": [
    "### Optional: Determine number of HCR probes necessary for each gene\n",
    "Sets the highest coefficient in each dictionary to desired max number of probes per gene and adjusts remaining \n",
    "\n",
    "max_negative/positive_probes = maximum number of probes that should be designed to bind to one gene from the negative/positives coefficient dictionary"
   ]
  },
  {
   "cell_type": "code",
   "execution_count": null,
   "metadata": {},
   "outputs": [],
   "source": [
    "max_negative_probes = 20\n",
    "max_positive_probes = 20\n",
    "negative_gene_to_probe_num_dict, positive_gene_to_probe_num_dict = get_probe_numbers( \n",
    "                                        negative_gene_to_coefficient_dict = negative_gene_to_coefficient_dict, \n",
    "                                        positive_gene_to_coefficient_dict = positive_gene_to_coefficient_dict, \n",
    "                                        max_negative_probes = max_negative_probes, \n",
    "                                        max_positive_probes = max_positive_probes)\n",
    "print('negative gene to probe dictionary:')\n",
    "print(negative_gene_to_probe_num_dict)\n",
    "print('positive gene to probe dictionary:')\n",
    "print(positive_gene_to_probe_num_dict)"
   ]
  },
  {
   "cell_type": "markdown",
   "metadata": {},
   "source": [
    "### Optional: Load in and test other gene lists on other data sets"
   ]
  },
  {
   "cell_type": "code",
   "execution_count": null,
   "metadata": {},
   "outputs": [],
   "source": [
    "# path_to_directory_with_dictionaries = '/Users/Daniel/Desktop/Summer_Research/SpermData/MoreData/GSE104556(GOOD)/''\n",
    "# negative_gene_coefficient_dict_file = 'Positive_coefficients_Other2.txt'\n",
    "# positive_gene_coefficient_dict_file = 'Negative_coefficients_Other2.txt'\n",
    "# with open(os.path.join(path_to_directory_with_dictionaries, negative_gene_coefficient_dict_file)) as json_file:  \n",
    "#     outside_negative_gene_to_coefficient_dict = json.load(json_file)\n",
    "# with open(os.path.join(path_to_directory_with_dictionaries, positive_gene_coefficient_dict_file)) as json_file:  \n",
    "#     outside_positive_gene_to_coefficient_dict = json.load(json_file)"
   ]
  },
  {
   "cell_type": "markdown",
   "metadata": {},
   "source": [
    "# Creating probes"
   ]
  },
  {
   "cell_type": "markdown",
   "metadata": {},
   "source": [
    "To generate probes first make sure you have installed ncbi tools for performing local blast\n",
    "\n",
    "Create an excel file called 'GeneList.xlsx' with the first column the common gene name (i.e. Prm1) and the NCBI accession number (i.e. NM_013637.5)\n",
    "\n",
    "Next, download all of the sequences in the genbank file format to a single file called 'sequence_marker.gb' "
   ]
  },
  {
   "cell_type": "markdown",
   "metadata": {},
   "source": [
    "    probelength = length of each probe\n",
    "    spacerlength = minimum distance between probes\n",
    "    GC_cutoff =[minimum GC content tolerated in aprobe, maximum GC content tolerated in a probe]"
   ]
  },
  {
   "cell_type": "code",
   "execution_count": null,
   "metadata": {},
   "outputs": [],
   "source": [
    "probelength = 52\n",
    "spacerlength = 3\n",
    "GC_cutoff = [40, 66]"
   ]
  },
  {
   "cell_type": "code",
   "execution_count": null,
   "metadata": {},
   "outputs": [],
   "source": [
    "COMPLEMENT_MAP = {'A': 'T', 'C': 'G', 'G': 'C', 'T': 'A', '-':'-', 'N':'N'}"
   ]
  },
  {
   "cell_type": "code",
   "execution_count": null,
   "metadata": {},
   "outputs": [],
   "source": [
    "gene_frame = pd.read_excel('GeneList.xlsx')"
   ]
  },
  {
   "cell_type": "code",
   "execution_count": null,
   "metadata": {},
   "outputs": [],
   "source": [
    "gb_file = 'sequence_marker.gb'\n",
    "gene_to_sequence_dict = {}"
   ]
  },
  {
   "cell_type": "code",
   "execution_count": null,
   "metadata": {},
   "outputs": [],
   "source": [
    "for gb_record in SeqIO.parse(open(gb_file,\"r\"), \"genbank\"):\n",
    "    gb_record.features = [f for f in gb_record.features if f.type == \"CDS\"]\n",
    "    start = gb_record.features[0].location.start.position\n",
    "    gene_to_sequence_dict[gb_record.name] = gb_record.seq[start::]"
   ]
  },
  {
   "cell_type": "markdown",
   "metadata": {},
   "source": [
    "Running the following code generates a file for each gene that contains all the possible probe sequences. Files are saved as commonname_accession_id.fasta\n",
    "\n",
    "(i.e. Prm1_NM_013636.fasta)"
   ]
  },
  {
   "cell_type": "code",
   "execution_count": null,
   "metadata": {},
   "outputs": [],
   "source": [
    "for index, accession in enumerate(gene_frame.iloc[:,1]):\n",
    "    probe_num = 1\n",
    "    generic_name = (gene_frame.iloc[index,0])\n",
    "    if accession:\n",
    "        accession_trim = accession[0:accession.find('.')]\n",
    "        print accession\n",
    "    S = gene_to_sequence_dict[accession_trim]\n",
    "    print len(S)\n",
    "    seq_list = list()\n",
    "    index_list = list()\n",
    "    tail = probelength + spacerlength\n",
    "    while tail < len(S):\n",
    "        temp_seq = S[(tail-probelength-spacerlength):tail-spacerlength]\n",
    "        to_save = SeqRecord(temp_seq, str(index))\n",
    "        SeqIO.write(to_save, \"temp_seq.fasta\", \"fasta\")\n",
    "        hits = False\n",
    "        blast_hits = False\n",
    "        #print temp_seq\n",
    "        if Seq(\"CCCCC\") in temp_seq:\n",
    "            hits = True\n",
    "        elif Seq(\"GGGGG\") in temp_seq:\n",
    "            hits = True\n",
    "        elif Seq(\"AAAAA\") in temp_seq:\n",
    "            hits = True\n",
    "        elif Seq(\"TTTTT\") in temp_seq:\n",
    "            hits = True\n",
    "        #BSRDI restriction site exclusion\n",
    "        #if Seq(\"GCAATG\") in temp_seq:\n",
    "            #hits = True\n",
    "        #BSAI restriction site exclusion\n",
    "        elif Seq(\"GGTCTC\") in temp_seq:\n",
    "            hits = True\n",
    "        elif Seq(\"GAGACC\") in temp_seq:\n",
    "            hits = True\n",
    "        elif has_hairpin(temp_seq,7,6):\n",
    "            hits = True\n",
    "        elif has_dimer(temp_seq, 10):\n",
    "            hits = True\n",
    "        elif has_improper_GC(temp_seq, GC_cutoff[0], GC_cutoff[1]):\n",
    "            hits = True\n",
    "        if hits == False:\n",
    "            output = NcbiblastnCommandline(query=\"temp_seq.fasta\", db=\"mouserefseq.fna\", outfmt = 6, \n",
    "                                    strand = \"plus\", dust = \"no\", penalty = -3, word_size = 7, gapopen = 5, \n",
    "                                    gapextend = 2, reward = 1, max_target_seqs = 50, perc_identity = 25)\n",
    "            stdout, stderr = output()\n",
    "            blast_output = stdout.splitlines()\n",
    "            blast_result_list = list()\n",
    "            for i in xrange(len(blast_output)):\n",
    "                blast_output[i] = blast_output[i].split('\\t')\n",
    "                blast_result_list.append(BlastResult(*(j for j in blast_output[i])))\n",
    "            for blast_result in blast_result_list:\n",
    "                if accession_trim not in blast_result.sseqid: #ignores same gene\n",
    "                    if 'X' not in blast_result.sseqid: #ignores predicted\n",
    "                        if (blast_result.qstart < 12 and blast_result.qend > 20): #check if well centered\n",
    "                            blast_hits = True\n",
    "                            print temp_seq\n",
    "                            print reverse_complement(temp_seq)\n",
    "                            print blast_result.qstart\n",
    "                            print blast_result.qend\n",
    "        os.remove('temp_seq.fasta')\n",
    "        if blast_hits == True:\n",
    "            print 'hi'\n",
    "            tail += 8\n",
    "        if hits == True:\n",
    "            tail += 5\n",
    "        if hits == False:\n",
    "            probe_num += 1\n",
    "            #print(probe_num)\n",
    "            #print(tail-probelength-spacerlength+1)\n",
    "            tail = tail + probelength + spacerlength\n",
    "            index_list.append(tail-probelength-spacerlength)\n",
    "            seq_list.append(reverse_complement(temp_seq))\n",
    "        if tail >= len(S):\n",
    "            final_probes = (SeqRecord(Seq(probe_seq), str(index+1), \n",
    "                        description = (\"probe number \" + str(index+ 1) + '     index ' + str(index_list[index]))) \n",
    "                            for index, probe_seq in enumerate(seq_list))\n",
    "            SeqIO.write(final_probes, generic_name +'_'+accession_trim+ '.fasta', 'fasta')"
   ]
  }
 ],
 "metadata": {
  "kernelspec": {
   "display_name": "Python 3",
   "language": "python",
   "name": "python3"
  },
  "language_info": {
   "codemirror_mode": {
    "name": "ipython",
    "version": 3
   },
   "file_extension": ".py",
   "mimetype": "text/x-python",
   "name": "python",
   "nbconvert_exporter": "python",
   "pygments_lexer": "ipython3",
   "version": "3.7.4"
  }
 },
 "nbformat": 4,
 "nbformat_minor": 2
}
